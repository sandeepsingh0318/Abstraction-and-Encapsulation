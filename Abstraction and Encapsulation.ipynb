{
 "cells": [
  {
   "cell_type": "code",
   "execution_count": 1,
   "id": "25d825e5",
   "metadata": {},
   "outputs": [],
   "source": [
    "#Q1. What is Abstraction in OOps? Explain with an example."
   ]
  },
  {
   "cell_type": "code",
   "execution_count": 2,
   "id": "9e47875c",
   "metadata": {},
   "outputs": [],
   "source": [
    "#sol:- Abstraction is the blue print of code in python.it is also called as skeleton of code.it import \n",
    "# with the help of (abc) library.\n",
    "import abc\n",
    "class details():\n",
    "    @abc.abstractmethod\n",
    "    def student(san):\n",
    "        pass\n",
    "    @abc.abstractmethod\n",
    "    def teacher(san):\n",
    "        pass\n",
    "    @abc.abstractmethod\n",
    "    def staff(san):\n",
    "        pass\n",
    "    \n",
    "    "
   ]
  },
  {
   "cell_type": "code",
   "execution_count": 3,
   "id": "753fed9c",
   "metadata": {},
   "outputs": [],
   "source": [
    "class details():\n",
    "    def student(san):\n",
    "        return '130 student'\n",
    "    def teacher(san):\n",
    "        return '20 teacher'\n",
    "    def staff(san):\n",
    "        return '10 staff'"
   ]
  },
  {
   "cell_type": "code",
   "execution_count": 4,
   "id": "076b7756",
   "metadata": {},
   "outputs": [],
   "source": [
    "vvp=details()"
   ]
  },
  {
   "cell_type": "code",
   "execution_count": 6,
   "id": "2575b481",
   "metadata": {},
   "outputs": [
    {
     "data": {
      "text/plain": [
       "'10 staff'"
      ]
     },
     "execution_count": 6,
     "metadata": {},
     "output_type": "execute_result"
    }
   ],
   "source": [
    "vvp.staff()"
   ]
  },
  {
   "cell_type": "code",
   "execution_count": 7,
   "id": "65571bbe",
   "metadata": {},
   "outputs": [
    {
     "data": {
      "text/plain": [
       "'130 student'"
      ]
     },
     "execution_count": 7,
     "metadata": {},
     "output_type": "execute_result"
    }
   ],
   "source": [
    "vvp.student()"
   ]
  },
  {
   "cell_type": "code",
   "execution_count": 8,
   "id": "62040449",
   "metadata": {},
   "outputs": [
    {
     "data": {
      "text/plain": [
       "'20 teacher'"
      ]
     },
     "execution_count": 8,
     "metadata": {},
     "output_type": "execute_result"
    }
   ],
   "source": [
    "vvp.teacher()"
   ]
  },
  {
   "cell_type": "code",
   "execution_count": 9,
   "id": "4b938f68",
   "metadata": {},
   "outputs": [],
   "source": [
    "#Q2. Differentiate between Abstraction and Encapsulation. Explain with an example."
   ]
  },
  {
   "cell_type": "code",
   "execution_count": 10,
   "id": "8712ca54",
   "metadata": {},
   "outputs": [],
   "source": [
    "#sol:-Abstraction-Abstraction is the blue print of code in python.it is also called as skeleton of code.it import \n",
    "# with the help of (abc) library.\n",
    "#Encapsulation:-it is use to some data is privte to the user.it is only give the permitted whoses create a code.it is only  provide security of code.\n",
    "import abc\n",
    "class details():\n",
    "    @abc.abstractmethod\n",
    "    def student(san):\n",
    "        pass\n",
    "    @abc.abstractmethod\n",
    "    def teacher(san):\n",
    "        pass\n",
    "    @abc.abstractmethod\n",
    "    def staff(san):\n",
    "        pass\n",
    "class details():\n",
    "    def student(san):\n",
    "        return '130 student'\n",
    "    def teacher(san):\n",
    "        return '20 teacher'\n",
    "    def staff(san):\n",
    "        return '10 staff'"
   ]
  },
  {
   "cell_type": "code",
   "execution_count": 12,
   "id": "df47b5b1",
   "metadata": {},
   "outputs": [],
   "source": [
    "# ex of encapsulation:-\n",
    "class bank():\n",
    "    def __init__(san,name,salary):\n",
    "        san.name=name\n",
    "        san.__salary=salary\n",
    "    def show_details(san):\n",
    "        return san.name,san.__salary"
   ]
  },
  {
   "cell_type": "code",
   "execution_count": 13,
   "id": "a3961882",
   "metadata": {},
   "outputs": [],
   "source": [
    "sandeep=bank('sbi',34000)"
   ]
  },
  {
   "cell_type": "code",
   "execution_count": 14,
   "id": "e7dcc018",
   "metadata": {},
   "outputs": [
    {
     "data": {
      "text/plain": [
       "'sbi'"
      ]
     },
     "execution_count": 14,
     "metadata": {},
     "output_type": "execute_result"
    }
   ],
   "source": [
    "sandeep.name"
   ]
  },
  {
   "cell_type": "code",
   "execution_count": 15,
   "id": "a23ca8a4",
   "metadata": {},
   "outputs": [
    {
     "data": {
      "text/plain": [
       "34000"
      ]
     },
     "execution_count": 15,
     "metadata": {},
     "output_type": "execute_result"
    }
   ],
   "source": [
    "sandeep._bank__salary"
   ]
  },
  {
   "cell_type": "code",
   "execution_count": 16,
   "id": "d01c05ec",
   "metadata": {},
   "outputs": [],
   "source": [
    "#Q3. What is abc module in python? Why is it used?\n",
    "#sol:- It is give the abstraction method library .they give the blue print and skeleton od code to the user.\n",
    "# they use to write a code as frame on the abstract method.that means blue print of code\n",
    "class details():\n",
    "    @abc.abstractmethod\n",
    "    def student(san):\n",
    "        pass\n",
    "    @abc.abstractmethod\n",
    "    def teacher(san):\n",
    "        pass\n",
    "    @abc.abstractmethod\n",
    "    def staff(san):\n",
    "        pass\n",
    "class details():\n",
    "    def student(san):\n",
    "        return '130 student'\n",
    "    def teacher(san):\n",
    "        return '20 teacher'\n",
    "    def staff(san):\n",
    "        return '10 staff'"
   ]
  },
  {
   "cell_type": "code",
   "execution_count": 17,
   "id": "acab78cf",
   "metadata": {},
   "outputs": [],
   "source": [
    "#Q5. Can we create an instance of an abstract class? Explain your answer.\n",
    "class details():\n",
    "    @abc.abstractmethod\n",
    "    def student(san):\n",
    "        pass\n",
    "    @abc.abstractmethod\n",
    "    def teacher(san):\n",
    "        pass\n",
    "    @abc.abstractmethod\n",
    "    def staff(san):\n",
    "        pass\n",
    "class details():\n",
    "    def student(san):\n",
    "        return '130 student'\n",
    "    def teacher(san):\n",
    "        return '20 teacher'\n",
    "    def staff(san):\n",
    "        return '10 staff'\n",
    "# firstly the user thing the code in mind they write as the skeleton of code and then write on console \n",
    "#window.to see above the example of abstraction class."
   ]
  },
  {
   "cell_type": "code",
   "execution_count": null,
   "id": "b51dd39b",
   "metadata": {},
   "outputs": [],
   "source": []
  }
 ],
 "metadata": {
  "kernelspec": {
   "display_name": "Python 3 (ipykernel)",
   "language": "python",
   "name": "python3"
  },
  "language_info": {
   "codemirror_mode": {
    "name": "ipython",
    "version": 3
   },
   "file_extension": ".py",
   "mimetype": "text/x-python",
   "name": "python",
   "nbconvert_exporter": "python",
   "pygments_lexer": "ipython3",
   "version": "3.9.13"
  }
 },
 "nbformat": 4,
 "nbformat_minor": 5
}
